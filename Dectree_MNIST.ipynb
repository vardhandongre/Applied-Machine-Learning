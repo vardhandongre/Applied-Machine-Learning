{
 "cells": [
  {
   "cell_type": "markdown",
   "metadata": {},
   "source": [
    "# CS 498AM1 Applied Machine Learning\n",
    "## Problem 4 : Classifying MNIST Images using Decision Tree Classifier\n",
    "### Prepared by: Vardhan Dongre (vdongre2@illinois.edu)\n",
    "\n",
    "#### Problem Description: \n",
    "Investigate classifying MNIST using a decision forest. Using the same parameters for your forest construction i.e., same depth of tree; same number of trees for untouched raw pixels and stretched bounding box raw pixels\n",
    "\n",
    "__compare the following cases:__ <font color = blue>untouched raw pixels and stretched\n",
    "bounding box raw pixels</font>\n",
    "\n",
    "• __Untouched:__ do not re-center the digits, but use the images as is.\n",
    "\n",
    "• __Bounding box:__ construct a b × b bounding box so that the horizontal (resp. vertical) range of ink pixels is centered in the box.\n",
    "\n",
    "• __Stretched bounding box:__ construct an b×b bounding box so that the horizontal\n",
    "(resp. vertical) range of ink pixels runs the full horizontal (resp. vertical) range of\n",
    "the box. Obtaining this representation will involve rescaling image pixels: you find\n",
    "the horizontal and vertical ink range, cut that out of the original image, then resize\n",
    "the result to b × b.\n",
    "\n",
    "__Dataset:__ http://yann.lecun.com/exdb/mnist/\n",
    "\n",
    "__References:__ \n",
    "\n",
    "https://stackoverflow.com/questions/21521571/how-to-read-mnist-database-in-r (Reader Code in R)\n",
    "\n",
    "https://gist.github.com/mfathirirhas/f24d61d134b014da029a (Reader Code in Python)\n",
    "\n",
    "https://colah.github.io/posts/2014-10-Visualizing-MNIST/ (Interesting insight on Dimensionality)\n",
    "\n",
    "https://scikit-image.org/docs/stable/auto_examples/transform/plot_rescale.html (Resize images using scikit-image)\n"
   ]
  },
  {
   "cell_type": "code",
   "execution_count": 28,
   "metadata": {},
   "outputs": [],
   "source": [
    "import numpy as np  \n",
    "import pandas as pd\n",
    "import struct\n",
    "import matplotlib.pyplot as plt\n",
    " \n",
    "from sklearn.metrics import accuracy_score\n",
    "\n",
    "from skimage.transform import resize\n",
    "from sklearn.ensemble import RandomForestClassifier"
   ]
  },
  {
   "cell_type": "code",
   "execution_count": 29,
   "metadata": {
    "scrolled": false
   },
   "outputs": [],
   "source": [
    "def loadImageSet(filename):  \n",
    "  \n",
    "    binfile = open(filename, 'rb') \n",
    "    buffers = binfile.read()  \n",
    "  \n",
    "    head = struct.unpack_from('>IIII', buffers, 0)  \n",
    "  \n",
    "    offset = struct.calcsize('>IIII')   \n",
    "    imgNum = head[1]  \n",
    "    width = head[2]  \n",
    "    height = head[3]  \n",
    "  \n",
    "    bits = imgNum * width * height   \n",
    "    bitsString = '>' + str(bits) + 'B'   \n",
    "  \n",
    "    imgs_frame = struct.unpack_from(bitsString, buffers, offset)  \n",
    "  \n",
    "    binfile.close()  \n",
    "    imgs = np.reshape(imgs_frame, [imgNum, width * height])  \n",
    "  \n",
    "    return imgs,head\n",
    "  \n",
    "def loadLabelSet(filename):  \n",
    "  \n",
    "    binfile = open(filename, 'rb')   \n",
    "    buffers = binfile.read()  \n",
    "  \n",
    "    head = struct.unpack_from('>II', buffers, 0)   \n",
    "  \n",
    "    labelNum = head[1]  \n",
    "    offset = struct.calcsize('>II')   \n",
    "  \n",
    "    numString = '>' + str(labelNum) + \"B\"  \n",
    "    labels = struct.unpack_from(numString, buffers, offset) \n",
    "  \n",
    "    binfile.close()  \n",
    "    labels = np.reshape(labels, [labelNum])  \n",
    "  \n",
    "    return labels,head  "
   ]
  },
  {
   "cell_type": "code",
   "execution_count": 30,
   "metadata": {},
   "outputs": [],
   "source": [
    "# Reference : \n",
    "#opencv2 resize \n",
    "# img = cv2.imread('your_image.jpg')\n",
    "# res = cv2.resize(img, dsize=(54, 140), interpolation=cv2.INTER_CUBIC)\n",
    "def resize_img(img,tol=0):\n",
    "    stretch_list=[]\n",
    "    for im in img:\n",
    "        single=np.reshape(im,[28,28])\n",
    "        mask = single>tol\n",
    "        cropped=single[np.ix_(mask.any(1),mask.any(0))]\n",
    "        resized=resize(cropped,(20,20))\n",
    "        im = np.reshape(resized, [20 * 20])\n",
    "        stretch_list.append(im)        \n",
    "    return np.array(stretch_list)"
   ]
  },
  {
   "cell_type": "code",
   "execution_count": 48,
   "metadata": {},
   "outputs": [],
   "source": [
    "def DecisionTree(depth,trees,train_x,train_y,test_x,test_y):\n",
    "    clf = RandomForestClassifier(max_depth=depth, max_leaf_nodes=trees)\n",
    "    clf.fit(train_x, train_y)\n",
    "    pred = clf.predict(test_x)\n",
    "    accuracy = accuracy_score(test_y, pred)\n",
    "    return accuracy"
   ]
  },
  {
   "cell_type": "code",
   "execution_count": 45,
   "metadata": {},
   "outputs": [
    {
     "name": "stderr",
     "output_type": "stream",
     "text": [
      "/Users/don/anaconda3/lib/python3.7/site-packages/skimage/util/dtype.py:135: UserWarning: Possible precision loss when converting from int64 to float64\n",
      "  .format(dtypeobj_in, dtypeobj_out))\n",
      "/Users/don/anaconda3/lib/python3.7/site-packages/sklearn/ensemble/forest.py:245: FutureWarning: The default value of n_estimators will change from 10 in version 0.20 to 100 in 0.22.\n",
      "  \"10 in version 0.20 to 100 in 0.22.\", FutureWarning)\n",
      "/Users/don/anaconda3/lib/python3.7/site-packages/sklearn/ensemble/forest.py:245: FutureWarning: The default value of n_estimators will change from 10 in version 0.20 to 100 in 0.22.\n",
      "  \"10 in version 0.20 to 100 in 0.22.\", FutureWarning)\n",
      "/Users/don/anaconda3/lib/python3.7/site-packages/sklearn/ensemble/forest.py:245: FutureWarning: The default value of n_estimators will change from 10 in version 0.20 to 100 in 0.22.\n",
      "  \"10 in version 0.20 to 100 in 0.22.\", FutureWarning)\n",
      "/Users/don/anaconda3/lib/python3.7/site-packages/sklearn/ensemble/forest.py:245: FutureWarning: The default value of n_estimators will change from 10 in version 0.20 to 100 in 0.22.\n",
      "  \"10 in version 0.20 to 100 in 0.22.\", FutureWarning)\n",
      "/Users/don/anaconda3/lib/python3.7/site-packages/sklearn/ensemble/forest.py:245: FutureWarning: The default value of n_estimators will change from 10 in version 0.20 to 100 in 0.22.\n",
      "  \"10 in version 0.20 to 100 in 0.22.\", FutureWarning)\n",
      "/Users/don/anaconda3/lib/python3.7/site-packages/sklearn/ensemble/forest.py:245: FutureWarning: The default value of n_estimators will change from 10 in version 0.20 to 100 in 0.22.\n",
      "  \"10 in version 0.20 to 100 in 0.22.\", FutureWarning)\n",
      "/Users/don/anaconda3/lib/python3.7/site-packages/sklearn/ensemble/forest.py:245: FutureWarning: The default value of n_estimators will change from 10 in version 0.20 to 100 in 0.22.\n",
      "  \"10 in version 0.20 to 100 in 0.22.\", FutureWarning)\n",
      "/Users/don/anaconda3/lib/python3.7/site-packages/sklearn/ensemble/forest.py:245: FutureWarning: The default value of n_estimators will change from 10 in version 0.20 to 100 in 0.22.\n",
      "  \"10 in version 0.20 to 100 in 0.22.\", FutureWarning)\n",
      "/Users/don/anaconda3/lib/python3.7/site-packages/sklearn/ensemble/forest.py:245: FutureWarning: The default value of n_estimators will change from 10 in version 0.20 to 100 in 0.22.\n",
      "  \"10 in version 0.20 to 100 in 0.22.\", FutureWarning)\n",
      "/Users/don/anaconda3/lib/python3.7/site-packages/sklearn/ensemble/forest.py:245: FutureWarning: The default value of n_estimators will change from 10 in version 0.20 to 100 in 0.22.\n",
      "  \"10 in version 0.20 to 100 in 0.22.\", FutureWarning)\n",
      "/Users/don/anaconda3/lib/python3.7/site-packages/sklearn/ensemble/forest.py:245: FutureWarning: The default value of n_estimators will change from 10 in version 0.20 to 100 in 0.22.\n",
      "  \"10 in version 0.20 to 100 in 0.22.\", FutureWarning)\n",
      "/Users/don/anaconda3/lib/python3.7/site-packages/sklearn/ensemble/forest.py:245: FutureWarning: The default value of n_estimators will change from 10 in version 0.20 to 100 in 0.22.\n",
      "  \"10 in version 0.20 to 100 in 0.22.\", FutureWarning)\n",
      "/Users/don/anaconda3/lib/python3.7/site-packages/sklearn/ensemble/forest.py:245: FutureWarning: The default value of n_estimators will change from 10 in version 0.20 to 100 in 0.22.\n",
      "  \"10 in version 0.20 to 100 in 0.22.\", FutureWarning)\n",
      "/Users/don/anaconda3/lib/python3.7/site-packages/sklearn/ensemble/forest.py:245: FutureWarning: The default value of n_estimators will change from 10 in version 0.20 to 100 in 0.22.\n",
      "  \"10 in version 0.20 to 100 in 0.22.\", FutureWarning)\n",
      "/Users/don/anaconda3/lib/python3.7/site-packages/sklearn/ensemble/forest.py:245: FutureWarning: The default value of n_estimators will change from 10 in version 0.20 to 100 in 0.22.\n",
      "  \"10 in version 0.20 to 100 in 0.22.\", FutureWarning)\n",
      "/Users/don/anaconda3/lib/python3.7/site-packages/sklearn/ensemble/forest.py:245: FutureWarning: The default value of n_estimators will change from 10 in version 0.20 to 100 in 0.22.\n",
      "  \"10 in version 0.20 to 100 in 0.22.\", FutureWarning)\n",
      "/Users/don/anaconda3/lib/python3.7/site-packages/sklearn/ensemble/forest.py:245: FutureWarning: The default value of n_estimators will change from 10 in version 0.20 to 100 in 0.22.\n",
      "  \"10 in version 0.20 to 100 in 0.22.\", FutureWarning)\n",
      "/Users/don/anaconda3/lib/python3.7/site-packages/sklearn/ensemble/forest.py:245: FutureWarning: The default value of n_estimators will change from 10 in version 0.20 to 100 in 0.22.\n",
      "  \"10 in version 0.20 to 100 in 0.22.\", FutureWarning)\n"
     ]
    },
    {
     "name": "stdout",
     "output_type": "stream",
     "text": [
      "Untouched raw pixels \n",
      "        20      30      40\n",
      "8   0.8156  0.8248  0.8481\n",
      "16  0.7942  0.8265  0.8390\n",
      "32  0.8033  0.8305  0.8470\n",
      "Stretched bounding box raw pixels \n",
      "        20      30      40\n",
      "8   0.7603  0.7975  0.8184\n",
      "16  0.7721  0.8099  0.8116\n",
      "32  0.7677  0.8149  0.8272\n"
     ]
    }
   ],
   "source": [
    "train_x= 'train-images-idx3-ubyte'  \n",
    "train_y= 'train-labels-idx1-ubyte'  \n",
    "test_x='t10k-images-idx3-ubyte'\n",
    "test_y='t10k-labels-idx1-ubyte'\n",
    "  \n",
    "train_imgs,train_data_head = loadImageSet(train_x)  \n",
    "test_imgs,test_data_head = loadImageSet(test_x)\n",
    "\n",
    "train_imgs_threshold=1*(train_imgs>128)\n",
    "test_imgs_threshold=1*(test_imgs>128)\n",
    "\n",
    "\n",
    "\n",
    "train_imgs_resize = resize_img(train_imgs)\n",
    "\n",
    "# Adjusting the transformed output of resize()\n",
    "avg = (np.amax(train_imgs_resize)+np.amin(train_imgs_resize))/2.0\n",
    "train_imgs_resize_threshold=1*(train_imgs_resize>avg)\n",
    "\n",
    "test_imgs_resize = resize_img(test_imgs)\n",
    "test_imgs_resize_threshold=1*(test_imgs_resize>avg)\n",
    "\n",
    "train_labels,train_labels_head = loadLabelSet(train_y)\n",
    "test_labels,test_labels_head = loadLabelSet(test_y)\n",
    "\n",
    "depth_list=[8,16,32]\n",
    "trees_list=[20,30,40]\n",
    "stretched_df = pd.DataFrame(index=depth_list, columns=trees_list)\n",
    "stretched_df = stretched_dict.fillna(0)\n",
    "untouched_df = pd.DataFrame(index=depth_list, columns=trees_list)\n",
    "untouched_df = untouched_dict.fillna(0)\n",
    "for i in depth_list:\n",
    "    for j in trees_list:\n",
    "        #print(\"resized\")\n",
    "        stretched_df.loc[i,j] = DecisionTree(i,j,train_imgs_resize_threshold,train_labels,test_imgs_resize_threshold,test_labels)\n",
    "        #print(\"untouched\")\n",
    "        untouched_df.loc[i,j] = DecisionTree(i,j,train_imgs,train_labels,test_imgs,test_labels)\n",
    "\n",
    "# Results\n",
    "\n",
    "print('Untouched raw pixels ')\n",
    "print(untouched_df)\n",
    "print('Stretched bounding box raw pixels ')\n",
    "print(stretched_df)"
   ]
  },
  {
   "cell_type": "markdown",
   "metadata": {},
   "source": [
    "### Keeping both parameters same (same depth of tree; same number of trees )"
   ]
  },
  {
   "cell_type": "code",
   "execution_count": 49,
   "metadata": {},
   "outputs": [
    {
     "name": "stdout",
     "output_type": "stream",
     "text": [
      "stretched\n"
     ]
    },
    {
     "name": "stderr",
     "output_type": "stream",
     "text": [
      "/Users/don/anaconda3/lib/python3.7/site-packages/sklearn/ensemble/forest.py:245: FutureWarning: The default value of n_estimators will change from 10 in version 0.20 to 100 in 0.22.\n",
      "  \"10 in version 0.20 to 100 in 0.22.\", FutureWarning)\n"
     ]
    },
    {
     "name": "stdout",
     "output_type": "stream",
     "text": [
      "0.8087\n",
      "untouched\n"
     ]
    },
    {
     "name": "stderr",
     "output_type": "stream",
     "text": [
      "/Users/don/anaconda3/lib/python3.7/site-packages/sklearn/ensemble/forest.py:245: FutureWarning: The default value of n_estimators will change from 10 in version 0.20 to 100 in 0.22.\n",
      "  \"10 in version 0.20 to 100 in 0.22.\", FutureWarning)\n"
     ]
    },
    {
     "name": "stdout",
     "output_type": "stream",
     "text": [
      "0.8198\n"
     ]
    }
   ],
   "source": [
    "depth_d = 32\n",
    "trees_n = 32\n",
    "print(\"stretched\")\n",
    "print(DecisionTree(depth_d,trees_n,train_imgs_resize_threshold,train_labels,test_imgs_resize_threshold,test_labels))\n",
    "print(\"untouched\")\n",
    "print(DecisionTree(depth_d,trees_n,train_imgs,train_labels,test_imgs,test_labels))"
   ]
  },
  {
   "cell_type": "markdown",
   "metadata": {},
   "source": [
    "## Which works best? \n",
    "From the above results it seems the results were comparable with the untouched performing slightly better than stretched images. Although image resizing should have performed better as it is a very common technique for boosting performance of DL models. \n",
    "\n",
    "## Why?\n",
    "There might be downside to stretching if we cut the image and lose useful information. However, if the image is carefully resized it makes it easier for the model to identify the useful features in the data."
   ]
  }
 ],
 "metadata": {
  "kernelspec": {
   "display_name": "Python 3",
   "language": "python",
   "name": "python3"
  },
  "language_info": {
   "codemirror_mode": {
    "name": "ipython",
    "version": 3
   },
   "file_extension": ".py",
   "mimetype": "text/x-python",
   "name": "python",
   "nbconvert_exporter": "python",
   "pygments_lexer": "ipython3",
   "version": "3.7.3"
  }
 },
 "nbformat": 4,
 "nbformat_minor": 2
}
